{
    "cells": [
        {
            "cell_type": "markdown",
            "metadata": {},
            "source": [
                "CONTENTS:\n",
                "- [Description](#description)\n",
                "- [Imports](#imports)\n",
                "- [Utils](#utils)\n",
                "- [GH workflows state](#gh-workflows-state)\n",
                "- [Allure reports](#allure-reports)\n",
                "- [Number of open pull requests](#number-of-open-pull-requests)\n",
                "- [Code coverage HTML-page](#code-coverage-html-page)\n",
                "- [Code Coverage Page - CodeCov](#code-coverage-page---codecov)"
            ]
        },
        {
            "cell_type": "markdown",
            "id": "e3103ff3",
            "metadata": {},
            "source": [
                " TODO(Grisha): does it belong to the `devops` dir?"
            ]
        },
        {
            "cell_type": "markdown",
            "id": "9d992fed",
            "metadata": {},
            "source": [
                "<a name='description'></a>\n",
                "# Description"
            ]
        },
        {
            "cell_type": "markdown",
            "id": "3e381a7d",
            "metadata": {
                "ExecuteTime": {
                    "end_time": "2024-02-02T08:02:05.889049Z",
                    "start_time": "2024-02-02T08:02:05.883420Z"
                }
            },
            "source": [
                "The notebook reports the latest build status for multiple repos."
            ]
        },
        {
            "cell_type": "markdown",
            "id": "982f47f1",
            "metadata": {},
            "source": [
                "<a name='imports'></a>\n",
                "# Imports"
            ]
        },
        {
            "cell_type": "code",
            "execution_count": null,
            "id": "97bbec36",
            "metadata": {
                "ExecuteTime": {
                    "end_time": "2024-02-07T17:59:42.038091Z",
                    "start_time": "2024-02-07T17:59:42.002068Z"
                }
            },
            "outputs": [],
            "source": [
                "%load_ext autoreload\n",
                "%autoreload 2\n",
                "%matplotlib inline"
            ]
        },
        {
            "cell_type": "code",
            "execution_count": null,
            "id": "518df056",
            "metadata": {
                "ExecuteTime": {
                    "end_time": "2024-02-07T17:59:42.078514Z",
                    "start_time": "2024-02-07T17:59:42.041301Z"
                }
            },
            "outputs": [],
            "source": [
                "import logging\n",
                "from typing import Dict\n",
                "\n",
                "import pandas as pd\n",
                "from IPython.display import Markdown, display\n",
                "\n",
                "import helpers.hdbg as hdbg\n",
                "import helpers.henv as henv\n",
                "import helpers.hpandas as hpandas\n",
                "import helpers.hprint as hprint\n",
                "import helpers.lib_tasks_gh as hlitagh\n"
            ]
        },
        {
            "cell_type": "code",
            "execution_count": null,
            "id": "f0793aa5",
            "metadata": {
                "ExecuteTime": {
                    "end_time": "2024-02-07T17:59:42.268049Z",
                    "start_time": "2024-02-07T17:59:42.081426Z"
                }
            },
            "outputs": [],
            "source": [
                "hdbg.init_logger(verbosity=logging.INFO)\n",
                "_LOG = logging.getLogger(__name__)\n",
                "_LOG.info(\"%s\", henv.get_system_signature()[0])\n",
                "hprint.config_notebook()"
            ]
        },
        {
            "cell_type": "code",
            "execution_count": null,
            "id": "93c2d39f",
            "metadata": {
                "ExecuteTime": {
                    "end_time": "2024-02-07T17:59:42.338614Z",
                    "start_time": "2024-02-07T17:59:42.271472Z"
                }
            },
            "outputs": [],
            "source": [
                "# Set the display options to print the full table.\n",
                "pd.set_option(\"display.max_colwidth\", None)\n",
                "pd.set_option(\"display.max_columns\", None)"
            ]
        },
        {
            "cell_type": "markdown",
            "id": "14f379d5",
            "metadata": {
                "lines_to_next_cell": 2
            },
            "source": [
                "<a name='utils'></a>\n",
                "# Utils"
            ]
        },
        {
            "cell_type": "code",
            "execution_count": null,
            "id": "1f41a8dd",
            "metadata": {
                "ExecuteTime": {
                    "end_time": "2024-02-07T17:59:42.380319Z",
                    "start_time": "2024-02-07T17:59:42.343492Z"
                }
            },
            "outputs": [],
            "source": [
                "def make_clickable(url: str) -> str:\n",
                "    \"\"\"\n",
                "    Wrapper to make the URL value clickable.\n",
                "\n",
                "    :param url: URL value to convert\n",
                "    :return: clickable URL link\n",
                "    \"\"\"\n",
                "    return f'<a href=\"{url}\" target=\"_blank\">{url}</a>'\n",
                "\n",
                "\n",
                "def color_format(val: str, status_color_mapping: Dict[str, str]) -> str:\n",
                "    \"\"\"\n",
                "    Return the color depends on status.\n",
                "\n",
                "    :param val: value of the status e.g. `failure`\n",
                "    :param status_color_mapping: mapping statuses to the colors e.g.:\n",
                "    ```\n",
                "    {\n",
                "       \"success\": \"green\",\n",
                "       \"failure\": \"red\",\n",
                "    }\n",
                "    ```\n",
                "    \"\"\"\n",
                "    if val in status_color_mapping:\n",
                "        color = status_color_mapping[val]\n",
                "    else:\n",
                "        color = \"grey\"\n",
                "    return f\"background-color: {color}\""
            ]
        },
        {
            "cell_type": "markdown",
            "id": "189f2c75",
            "metadata": {},
            "source": [
                "<a name='gh-workflows-state'></a>\n",
                "# GH workflows state"
            ]
        },
        {
            "cell_type": "code",
            "execution_count": null,
            "id": "865bc9f2",
            "metadata": {
                "ExecuteTime": {
                    "end_time": "2024-02-07T17:59:57.513155Z",
                    "start_time": "2024-02-07T17:59:42.383039Z"
                }
            },
            "outputs": [],
            "source": [
                "repo_list = [\n",
                "    \"cryptokaizen/cmamp\",\n",
                "    \"cryptokaizen/orange\",\n",
                "    \"cryptokaizen/lemonade\",\n",
                "    \"causify-ai/kaizenflow\",\n",
                "]\n",
                "workflow_df = hlitagh.gh_get_details_for_all_workflows(repo_list)\n",
                "# Reorder columns.\n",
                "columns_order = [\"repo_name\", \"workflow_name\", \"conclusion\", \"url\"]\n",
                "workflow_df = workflow_df[columns_order]\n",
                "# Make URL values clickable.\n",
                "workflow_df[\"url\"] = workflow_df[\"url\"].apply(make_clickable)\n",
                "_LOG.info(hpandas.df_to_str(workflow_df, log_level=logging.INFO))"
            ]
        },
        {
            "cell_type": "code",
            "execution_count": null,
            "id": "f7e999ce",
            "metadata": {
                "ExecuteTime": {
                    "end_time": "2024-02-07T17:59:57.585606Z",
                    "start_time": "2024-02-07T17:59:57.515915Z"
                }
            },
            "outputs": [],
            "source": [
                "status_color_mapping = {\n",
                "    \"success\": \"green\",\n",
                "    \"failure\": \"red\",\n",
                "}\n",
                "repos = workflow_df[\"repo_name\"].unique()\n",
                "display(Markdown(\"## Overall Status\"))\n",
                "current_timestamp = pd.Timestamp.now(tz=\"America/New_York\")\n",
                "display(Markdown(f\"**Last run: {current_timestamp}**\"))\n",
                "for repo in repos:\n",
                "    # Calculate the overall status.\n",
                "    repo_df = workflow_df[workflow_df[\"repo_name\"] == repo]\n",
                "    overall_status = hlitagh.gh_get_overall_build_status_for_repo(repo_df)\n",
                "    display(Markdown(f\"## {repo}: {overall_status}\"))\n",
                "    repo_df = repo_df.drop(columns=[\"repo_name\"])\n",
                "    display(\n",
                "        repo_df.style.map(\n",
                "            color_format,\n",
                "            status_color_mapping=status_color_mapping,\n",
                "            subset=[\"conclusion\"],\n",
                "        )\n",
                "    )"
            ]
        },
        {
            "cell_type": "markdown",
            "id": "a00870a9",
            "metadata": {},
            "source": [
                "<a name='allure-reports'></a>\n",
                "# Allure reports"
            ]
        },
        {
            "cell_type": "markdown",
            "id": "36e93fca",
            "metadata": {},
            "source": [
                "- fast tests: http://172.30.2.44/allure_reports/cmamp/fast/latest/index.html\n",
                "- slow tests: http://172.30.2.44/allure_reports/cmamp/slow/latest/index.html\n",
                "- superslow tests: http://172.30.2.44/allure_reports/cmamp/superslow/latest/index.html"
            ]
        },
        {
            "cell_type": "markdown",
            "id": "bb8ed505",
            "metadata": {},
            "source": [
                "<a name='number-of-open-pull-requests'></a>\n",
                "# Number of open pull requests"
            ]
        },
        {
            "cell_type": "code",
            "execution_count": null,
            "id": "69dbda1d",
            "metadata": {
                "ExecuteTime": {
                    "end_time": "2024-02-07T17:59:59.309022Z",
                    "start_time": "2024-02-07T17:59:57.588291Z"
                }
            },
            "outputs": [],
            "source": [
                "for repo in repo_list:\n",
                "    number_prs = len(hlitagh.gh_get_open_prs(repo))\n",
                "    _LOG.info(\"%s: %s\", repo, number_prs)"
            ]
        },
        {
            "cell_type": "markdown",
            "id": "ec63cb5e",
            "metadata": {},
            "source": [
                "<a name='code-coverage-html-page'></a>\n",
                "# Code coverage HTML-page"
            ]
        },
        {
            "cell_type": "markdown",
            "id": "569f9404",
            "metadata": {
                "ExecuteTime": {
                    "end_time": "2024-01-24T14:40:31.379819Z",
                    "start_time": "2024-01-24T14:40:31.327151Z"
                }
            },
            "source": [
                "http://172.30.2.44/html_coverage/runner_master/"
            ]
        },
        {
            "cell_type": "markdown",
            "id": "027d1b3d",
            "metadata": {},
            "source": [
                "<a name='code-coverage-page---codecov'></a>\n",
                "# Code Coverage Page - CodeCov"
            ]
        },
        {
            "cell_type": "markdown",
            "id": "6c9219e1",
            "metadata": {},
            "source": [
                "- Helpers: https://app.codecov.io/gh/causify-ai/helpers"
            ]
        }
    ],
    "metadata": {
        "kernelspec": {
            "display_name": "Python 3 (ipykernel)",
            "language": "python",
            "name": "python3"
        },
        "language_info": {
            "codemirror_mode": {
                "name": "ipython",
                "version": 3
            },
            "file_extension": ".py",
            "mimetype": "text/x-python",
            "name": "python",
            "nbconvert_exporter": "python",
            "pygments_lexer": "ipython3",
            "version": "3.12.3"
        },
        "toc": {
            "base_numbering": 1,
            "nav_menu": {},
            "number_sections": true,
            "sideBar": true,
            "skip_h1_title": false,
            "title_cell": "Table of Contents",
            "title_sidebar": "Contents",
            "toc_cell": false,
            "toc_position": {},
            "toc_section_display": true,
            "toc_window_display": false
        }
    },
    "nbformat": 4,
    "nbformat_minor": 5
}
